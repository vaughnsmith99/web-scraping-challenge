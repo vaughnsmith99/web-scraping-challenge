{
 "cells": [
  {
   "cell_type": "code",
   "execution_count": 1,
   "metadata": {},
   "outputs": [],
   "source": [
    "import pandas as pd\n",
    "import requests\n",
    "import splinter\n",
    "from bs4 import BeautifulSoup as bs\n",
    "from sqlalchemy import create_engine"
   ]
  },
  {
   "cell_type": "code",
   "execution_count": 2,
   "metadata": {},
   "outputs": [],
   "source": [
    "#Websites to Scrape\n",
    "mars_news_url = \"https://mars.nasa.gov/news/\"\n",
    "featured_space_image_url = \"https://data-class-jpl-space.s3.amazonaws.com/JPL_Space/image/featured/mars2.jpg\"\n",
    "mars_facts_url = \"https://space-facts.com/mars/\"\n",
    "mars_hemisphere_images_url = \"https://astrogeology.usgs.gov/search/results?q=hemisphere+enhanced&k1=target&v1=Mars\""
   ]
  },
  {
   "cell_type": "code",
   "execution_count": 3,
   "metadata": {},
   "outputs": [
    {
     "name": "stdout",
     "output_type": "stream",
     "text": [
      "Mars News Status: 200\n",
      "Featured Space Image Status: 200\n"
     ]
    },
    {
     "name": "stderr",
     "output_type": "stream",
     "text": [
      "Some characters could not be decoded, and were replaced with REPLACEMENT CHARACTER.\n"
     ]
    },
    {
     "name": "stdout",
     "output_type": "stream",
     "text": [
      "Mars Facts Status: 200\n",
      "Mars Hemisphere Images Status: 200\n"
     ]
    }
   ],
   "source": [
    "#Scrape Mars News\n",
    "mars_news = requests.get(mars_news_url)\n",
    "print(f'Mars News Status: {mars_news.status_code}')\n",
    "mars_news = bs(mars_news.content, \"html.parser\")\n",
    "\n",
    "#Scrape Featured Space Image\n",
    "featured_space_image = requests.get(featured_space_image_url)\n",
    "\n",
    "#Scrape Mars Facts\n",
    "mars_facts = requests.get(mars_facts_url)\n",
    "print(f'Mars Facts Status: {mars_facts.status_code}')\n",
    "mars_facts = bs(mars_facts.content, \"html.parser\")\n",
    "\n",
    "#Scrape Mars Hemisphere Images\n",
    "mars_hemisphere_images = requests.get(mars_hemisphere_images_url)\n",
    "print(f'Mars Hemisphere Images Status: {mars_hemisphere_images.status_code}')\n",
    "mars_hemisphere_images = bs(mars_hemisphere_images.content, \"html.parser\")"
   ]
  },
  {
   "cell_type": "code",
   "execution_count": 7,
   "metadata": {},
   "outputs": [
    {
     "name": "stdout",
     "output_type": "stream",
     "text": [
      "[]\n"
     ]
    }
   ],
   "source": [
    "recent_news = mars_news.find_all(\"div\", {\"class\": \"list_text\"})\n",
    "#mydivs = soup.find_all(\"div\", {\"class\": \"stylelistrow\"})\n",
    "print(recent_news)"
   ]
  },
  {
   "cell_type": "code",
   "execution_count": null,
   "metadata": {},
   "outputs": [],
   "source": []
  }
 ],
 "metadata": {
  "kernelspec": {
   "display_name": "Python 3",
   "language": "python",
   "name": "python3"
  },
  "language_info": {
   "codemirror_mode": {
    "name": "ipython",
    "version": 3
   },
   "file_extension": ".py",
   "mimetype": "text/x-python",
   "name": "python",
   "nbconvert_exporter": "python",
   "pygments_lexer": "ipython3",
   "version": "3.8.5"
  }
 },
 "nbformat": 4,
 "nbformat_minor": 4
}